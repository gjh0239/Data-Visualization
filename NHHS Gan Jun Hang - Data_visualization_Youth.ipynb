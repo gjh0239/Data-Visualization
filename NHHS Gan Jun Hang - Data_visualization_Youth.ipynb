{
  "nbformat": 4,
  "nbformat_minor": 0,
  "metadata": {
    "kernelspec": {
      "display_name": "Python 3",
      "language": "python",
      "name": "python3"
    },
    "language_info": {
      "codemirror_mode": {
        "name": "ipython",
        "version": 3
      },
      "file_extension": ".py",
      "mimetype": "text/x-python",
      "name": "python",
      "nbconvert_exporter": "python",
      "pygments_lexer": "ipython3",
      "version": "3.7.6"
    },
    "colab": {
      "name": "Data visualization - Youth.ipynb",
      "provenance": [],
      "collapsed_sections": [
        "3B-UjSi82Im1",
        "KowBSp-a2Im4",
        "f9NVZsoE2InC",
        "p2f2M6Ga2InF",
        "3p_R69Uh2InM",
        "N1QUE9Wb2InR",
        "pXqyzX8J2InU",
        "laV2hBSd2InX",
        "iaglDgdm2Ing",
        "xFfLKKX32Inl",
        "L3jqWTAq2Inp",
        "izMngEOv2Iny",
        "ryQn_Io72Inz",
        "YkKvp6Eu2In3",
        "P5d9gopa2In8",
        "8mgKQSPc2In8",
        "QNZ1WD9r2IoD",
        "W94b2QmM2IoI",
        "98mRmC6w2IoU",
        "ncvS4f9G2Ioa",
        "pPmMBvAx2Ioi",
        "Tqr9Bvce2Ioi",
        "8b9Ji8AK2Ior",
        "gVdit-o42IpC",
        "_AqHj5up2IpO",
        "89cTYbi22IpV",
        "ccd_Arbk2Ipu",
        "Ee8L88Gv2Ipz",
        "V1R4UQEM2Ip2",
        "SOrqsMSh2Ip6",
        "DL9FO7ch2Ip-",
        "uOoLFIrN2IqF"
      ]
    }
  },
  "cells": [
    {
      "cell_type": "markdown",
      "metadata": {
        "id": "ilP2GbbI2IlZ",
        "colab_type": "text"
      },
      "source": [
        "# Data Visualization with Python"
      ]
    },
    {
      "cell_type": "markdown",
      "metadata": {
        "id": "skhOmQbF2Ilc",
        "colab_type": "text"
      },
      "source": [
        "## Introduction\n",
        "\n",
        "Data visualization is part of data exploration, which is a critical step in the AI cycle. You will use this technique to gain understanding and insights to the data you have gathered, and determine if the data is ready for further processing or if you need to collect more data or clean the data. \n",
        "\n",
        "You will also use this technique to present your results. \n",
        "\n",
        "In this notebook, we will focus on data visualization using the matplotlib library, a popular data visualization library in Python. \n",
        "\n",
        "## Context\n",
        "\n",
        "We will be working with Jaipur weather data obtained from [Kaggle](https://www.kaggle.com/rajatdey/jaipur-weather-forecasting/version/2), a platform for data enthusiasts to gather, share knowledge and compete for many prizes!\n",
        "\n",
        "The data has been cleaned and simplified, so that we can focus on data visualization instead of data cleaning. \n",
        "\n",
        "## Data in agriculture\n",
        "\n",
        "Imagine that you are a farmer. What would be your main concerns? You want to have the best conditions for your crops to grow and bear good yield. \n",
        "\n",
        "The weather is a crucial factor to the success of your farm (unless you are running an [indoor farm](https://www.nanalyze.com/2019/01/indoor-farming-agriculture-indoors/) ). Thankfully, you can more easily find weather data now with the prevalence of sensor technology. There are also numerous open data sources out there for you to collect your weather data. \n",
        "\n",
        "- [India open data source](https://data.gov.in/keywords/weather)\n",
        "- [Korea open data source](https://www.data.go.kr/e_main.jsp#/L21haW4=)\n",
        "- [Poland open data source](https://index.okfn.org/place/pl/)\n",
        "\n",
        "Alright, you have obtained your data (JaipurFinalCleanData.csv). This file contains weather information of Jaipur.\n",
        "\n",
        "What do you do next?"
      ]
    },
    {
      "cell_type": "markdown",
      "metadata": {
        "id": "Xxwa4Rbh2Ild",
        "colab_type": "text"
      },
      "source": [
        "### Side note: What is csv?\n",
        "\n",
        "CSV (Comma-Separated Value) is a file containing a set of data, separated by [commas](http://w3c.github.io/csvw/use-cases-and-requirements/egypt-referendum-2012-result-csv-in-textwrangler.png).\n",
        "\n",
        "We usually access these files using spreadsheet applications such as Excel or Google Sheet. Do you know how this is done?\n",
        "\n",
        "Today, we will learn how to use Python to open csv files. "
      ]
    },
    {
      "cell_type": "markdown",
      "metadata": {
        "id": "-ABmr0Dp2Ile",
        "colab_type": "text"
      },
      "source": [
        "## Use Python to open csv files\n",
        "\n",
        "We will use the [pandas](https://pandas.pydata.org/) library to work with our dataset. Pandas is a popular Python library for data science. It offers powerful and flexible data structures to make data manipulationa and analysis easier. \n",
        "\n",
        "## Import Pandas\n"
      ]
    },
    {
      "cell_type": "code",
      "metadata": {
        "id": "rGzpJu6v2Ilf",
        "colab_type": "code",
        "colab": {}
      },
      "source": [
        "import pandas as pd #import pandas as pd means we can type \"pd\" to call the pandas library"
      ],
      "execution_count": null,
      "outputs": []
    },
    {
      "cell_type": "markdown",
      "metadata": {
        "id": "seBR6eD32Ilk",
        "colab_type": "text"
      },
      "source": [
        "Now that we have imported pandas, let's start by reading the csv file."
      ]
    },
    {
      "cell_type": "markdown",
      "metadata": {
        "id": "IBS3QXUc2P4w",
        "colab_type": "text"
      },
      "source": [
        "# Mounting Gdrive & Importing Data"
      ]
    },
    {
      "cell_type": "markdown",
      "metadata": {
        "id": "FEc4WF3V2uZ6",
        "colab_type": "text"
      },
      "source": [
        "For accessing files on colab we must mount the drive using the code below and then enter the correct path for the file in the drive so as to access it."
      ]
    },
    {
      "cell_type": "code",
      "metadata": {
        "id": "qA1CfrgJ2xRp",
        "colab_type": "code",
        "colab": {}
      },
      "source": [
        "from google.colab import drive #After running this code sign in using your Google account in which you have uploaded the \"JaipurFinalCleanData.csv\" file. \n",
        "drive.mount('/content/drive')#Once done copy the authorisation code and paste it in the box below"
      ],
      "execution_count": null,
      "outputs": []
    },
    {
      "cell_type": "code",
      "metadata": {
        "id": "UGYhRIBi2Ill",
        "colab_type": "code",
        "colab": {}
      },
      "source": [
        "#saving the csv file into a variable which we will call data frame\n",
        "dataframe = pd.read_csv('/content/drive/My Drive/JaipurFinalCleanData.csv') #in case of error check if the file path is correct or not"
      ],
      "execution_count": null,
      "outputs": []
    },
    {
      "cell_type": "markdown",
      "metadata": {
        "id": "BN2v8Mgs2Ilo",
        "colab_type": "text"
      },
      "source": [
        "## Exploring our data"
      ]
    },
    {
      "cell_type": "markdown",
      "metadata": {
        "id": "nTmjqUpL2Ilo",
        "colab_type": "text"
      },
      "source": [
        "Great! We have now a variable to contain our weather data. Let's explore our data. Use the .head() function to see the first few rows of data. "
      ]
    },
    {
      "cell_type": "code",
      "metadata": {
        "scrolled": true,
        "id": "jVWGvzSk2Ilp",
        "colab_type": "code",
        "colab": {}
      },
      "source": [
        "#dataframe.head() means we are getting the first 5 rows of data\n",
        "# try running it to see what data is in the jaipur csv file\n",
        "print (dataframe.head())"
      ],
      "execution_count": null,
      "outputs": []
    },
    {
      "cell_type": "code",
      "metadata": {
        "id": "gENpPjTZ2Il3",
        "colab_type": "code",
        "colab": {}
      },
      "source": [
        "dataframe.dtypes"
      ],
      "execution_count": null,
      "outputs": []
    },
    {
      "cell_type": "markdown",
      "metadata": {
        "id": "3B-UjSi82Im1",
        "colab_type": "text"
      },
      "source": [
        "## Importing matplotlib\n",
        "\n",
        "[Matplotlib](https://matplotlib.org/) is a Python 2D plotting library that we can use to produce high quality data visualization. It is highly usable (as you will soon find out), you can create simple and complex graphs with just a few lines of codes!\n",
        "\n",
        "Now let's load matplotlib to start plotting some graphs"
      ]
    },
    {
      "cell_type": "code",
      "metadata": {
        "id": "YFe3fVtn2Im2",
        "colab_type": "code",
        "colab": {}
      },
      "source": [
        "import matplotlib.pyplot as plt\n",
        "import numpy as np"
      ],
      "execution_count": null,
      "outputs": []
    },
    {
      "cell_type": "markdown",
      "metadata": {
        "id": "KowBSp-a2Im4",
        "colab_type": "text"
      },
      "source": [
        "## Scatter plot\n",
        "\n",
        "Scatter plots use a collection of points on a graph to display values from two variables. This allow us to see if there is any relationship or correlation between the two variables. \n",
        "\n",
        "Let's see how mean temperature changes over the years! "
      ]
    },
    {
      "cell_type": "code",
      "metadata": {
        "id": "omX6rgha2Im4",
        "colab_type": "code",
        "colab": {}
      },
      "source": [
        "x = dataframe.date\n",
        "y = dataframe.mean_temperature"
      ],
      "execution_count": null,
      "outputs": []
    },
    {
      "cell_type": "code",
      "metadata": {
        "id": "KGSaS6uE2Im9",
        "colab_type": "code",
        "colab": {}
      },
      "source": [
        "plt.scatter(x,y)\n",
        "plt.show()"
      ],
      "execution_count": null,
      "outputs": []
    },
    {
      "cell_type": "markdown",
      "metadata": {
        "id": "f9NVZsoE2InC",
        "colab_type": "text"
      },
      "source": [
        "Do you see that the x axis is filled with a thick line, and that there's no tick label available? This makes us unable to analyze the data. \n",
        "\n",
        "Let's try to modify this scatter plot so that we can see the ticks!\n",
        "\n",
        "### Choose only several ticks\n",
        "One reason why there's a thick bar below the x axis is that there are numerous labels (2 years daily data) on the x axis. \n",
        "\n",
        "The first thing we are going to do is to then reduce the number of ticks/ points for the x axis. We do this using the np.arrange function as below:"
      ]
    },
    {
      "cell_type": "code",
      "metadata": {
        "id": "eIB2KFES2InC",
        "colab_type": "code",
        "colab": {}
      },
      "source": [
        "plt.scatter(x,y)\n",
        "plt.xticks(np.arange(0, 731, 30))\n",
        "plt.show()"
      ],
      "execution_count": null,
      "outputs": []
    },
    {
      "cell_type": "markdown",
      "metadata": {
        "id": "p2f2M6Ga2InF",
        "colab_type": "text"
      },
      "source": [
        "See, now you can see the numbers clearer, but they are still overlapping.\n",
        "### Task 8: Change x ticks interval so that you can see the dates clearly"
      ]
    },
    {
      "cell_type": "code",
      "metadata": {
        "id": "OkHGZyJA2InG",
        "colab_type": "code",
        "colab": {}
      },
      "source": [
        "#yourcodehere"
      ],
      "execution_count": null,
      "outputs": []
    },
    {
      "cell_type": "markdown",
      "metadata": {
        "id": "3p_R69Uh2InM",
        "colab_type": "text"
      },
      "source": [
        "What is the interval you use so that you can see all the dates? Do you notice that now we are only having very few ticks? \n",
        "\n",
        "Let's try to rotate our ticks. See the example on [Stackoverflow](https://stackoverflow.com/questions/10998621/rotate-axis-text-in-python-matplotlib)!\n",
        "\n",
        "Note: Stackoverflow is a site where technical personnel gather and share their knowledge. You can search for any queries over the site and see if there are already others who solve it!\n",
        "\n",
        "### Task 9: Rotate our x ticks label so that we can see more ticks more clearly"
      ]
    },
    {
      "cell_type": "code",
      "metadata": {
        "id": "l8xfZ2Vf2InN",
        "colab_type": "code",
        "colab": {}
      },
      "source": [
        "#yourcodehere"
      ],
      "execution_count": null,
      "outputs": []
    },
    {
      "cell_type": "markdown",
      "metadata": {
        "id": "N1QUE9Wb2InR",
        "colab_type": "text"
      },
      "source": [
        "Now we can see the x-ticks clearly. \n",
        "\n",
        "Notice how temperature changes according to the time of the year. Compare it with this [website](https://weather-and-climate.com/average-monthly-Rainfall-Temperature-Sunshine,jaipur,India). Does it inform you when to best plant your crop?\n",
        "\n",
        "### Giving label to the x and y axis\n",
        "\n",
        "You can also give label to the x and y axis. This will make it easier for you to visualise and share your data. "
      ]
    },
    {
      "cell_type": "code",
      "metadata": {
        "id": "sUKeceaX2InS",
        "colab_type": "code",
        "colab": {}
      },
      "source": [
        "plt.scatter(x,y)\n",
        "plt.xticks(np.arange(0, 731, 60))\n",
        "plt.xticks (rotation=30)\n",
        "\n",
        "# Add x and y labels and set a font size\n",
        "plt.xlabel (\"Date\", fontsize = 14)\n",
        "plt.ylabel (\"Mean Temperature\", fontsize = 14)\n",
        "\n",
        "plt.show()"
      ],
      "execution_count": null,
      "outputs": []
    },
    {
      "cell_type": "markdown",
      "metadata": {
        "id": "pXqyzX8J2InU",
        "colab_type": "text"
      },
      "source": [
        "Looks good! \n",
        "\n",
        "### Task 10: Now, let's add a title. \n",
        "See how to do it [here](https://python-graph-gallery.com/4-add-title-and-axis-label/). "
      ]
    },
    {
      "cell_type": "code",
      "metadata": {
        "id": "0CSQTsvQ2InU",
        "colab_type": "code",
        "colab": {}
      },
      "source": [
        "#yourcodehere"
      ],
      "execution_count": null,
      "outputs": []
    },
    {
      "cell_type": "markdown",
      "metadata": {
        "id": "laV2hBSd2InX",
        "colab_type": "text"
      },
      "source": [
        "### Task 11: Change the title size to be bigger than the x and y labels!"
      ]
    },
    {
      "cell_type": "code",
      "metadata": {
        "id": "YfIU18Nt2Ina",
        "colab_type": "code",
        "colab": {}
      },
      "source": [
        "#yourcodehere"
      ],
      "execution_count": null,
      "outputs": []
    },
    {
      "cell_type": "markdown",
      "metadata": {
        "id": "-ikkU6KI2Ind",
        "colab_type": "text"
      },
      "source": [
        "Good! Now, we can also change the size of the plot "
      ]
    },
    {
      "cell_type": "code",
      "metadata": {
        "id": "9Eb_Z4bl2Ine",
        "colab_type": "code",
        "colab": {}
      },
      "source": [
        "# Change the default figure size\n",
        "plt.figure(figsize=(10,10))\n",
        "\n",
        "plt.scatter(x,y)\n",
        "plt.xticks(np.arange(0, 731, 60))\n",
        "plt.xticks (rotation=30)\n",
        "\n",
        "# Add x and y labels, title and set a font size\n",
        "plt.xlabel (\"Date\", fontsize = 24)\n",
        "plt.ylabel (\"Mean Temperature\", fontsize = 24)\n",
        "plt.title('Mean Temperature at Jaipur', fontsize = 30)\n",
        "\n",
        "# Set the font size of the number labels on the axes\n",
        "plt.xticks (fontsize = 12)\n",
        "plt.yticks (fontsize = 12)\n",
        "\n",
        "plt.xticks (rotation=30, horizontalalignment='right')\n",
        "\n",
        "\n",
        "plt.show()"
      ],
      "execution_count": null,
      "outputs": []
    },
    {
      "cell_type": "markdown",
      "metadata": {
        "id": "iaglDgdm2Ing",
        "colab_type": "text"
      },
      "source": [
        "Looking good! Now, let's customize our graphs with the shapes and colours that we like. See [here](https://python-graph-gallery.com/131-custom-a-matplotlib-scatterplot/) for examples\n",
        "\n",
        "### Task 12: Change your marker shape!"
      ]
    },
    {
      "cell_type": "code",
      "metadata": {
        "id": "SbBRRLRD2Inh",
        "colab_type": "code",
        "colab": {}
      },
      "source": [
        "#yourcodehere"
      ],
      "execution_count": null,
      "outputs": []
    },
    {
      "cell_type": "markdown",
      "metadata": {
        "id": "xFfLKKX32Inl",
        "colab_type": "text"
      },
      "source": [
        "### Changing color\n",
        "\n",
        "You can also change the marker color. Check out the code below which show you how to do it!"
      ]
    },
    {
      "cell_type": "code",
      "metadata": {
        "id": "eF60MQtF2Inm",
        "colab_type": "code",
        "colab": {}
      },
      "source": [
        "# Change the default figure size\n",
        "plt.figure(figsize=(10,10))\n",
        "\n",
        "plt.scatter(x,y, c='green', marker='*')\n",
        "plt.xticks(np.arange(0, 731, 60))\n",
        "plt.xticks (rotation=30)\n",
        "    \n",
        "# Add x and y labels, title and set a font size\n",
        "plt.xlabel (\"Date\", fontsize = 24)\n",
        "plt.ylabel (\"Mean Temperature\", fontsize = 24)\n",
        "plt.title('Mean Temperature at Jaipur', fontsize = 30)\n",
        "\n",
        "# Set the font size of the number labels on the axes\n",
        "plt.xticks (fontsize = 12)\n",
        "plt.yticks (fontsize = 12)\n",
        "\n",
        "plt.xticks (rotation=30, horizontalalignment='right')\n",
        "\n",
        "\n",
        "plt.show()"
      ],
      "execution_count": null,
      "outputs": []
    },
    {
      "cell_type": "markdown",
      "metadata": {
        "id": "X2c9fGVP2Ino",
        "colab_type": "text"
      },
      "source": [
        "Look at your working directory and check if the new image file has been created!"
      ]
    },
    {
      "cell_type": "markdown",
      "metadata": {
        "id": "L3jqWTAq2Inp",
        "colab_type": "text"
      },
      "source": [
        "### Task 13: Change the data points to your favourite colour. \n",
        "Change the font colour and size too!"
      ]
    },
    {
      "cell_type": "code",
      "metadata": {
        "id": "icsz_sY62Inq",
        "colab_type": "code",
        "colab": {}
      },
      "source": [
        "#yourcodehere"
      ],
      "execution_count": null,
      "outputs": []
    },
    {
      "cell_type": "markdown",
      "metadata": {
        "id": "9R7FC7uY2Inv",
        "colab_type": "text"
      },
      "source": [
        "If you are wondering how to get the nice bubble looking scatter plot in the slides. Here a sample code, try running it!"
      ]
    },
    {
      "cell_type": "code",
      "metadata": {
        "id": "ml9bbNok2Inw",
        "colab_type": "code",
        "colab": {}
      },
      "source": [
        "import numpy as np\n",
        "\n",
        "colors = np.random.rand(len(y)) # Create random value\n",
        "#plt.scatter(x,y,c=colors,alpha=0.5)\n",
        "plt.scatter(x,y,c=colors,alpha=0.5)\n",
        "plt.show()"
      ],
      "execution_count": null,
      "outputs": []
    },
    {
      "cell_type": "markdown",
      "metadata": {
        "id": "izMngEOv2Iny",
        "colab_type": "text"
      },
      "source": [
        "### Task 14: Try changing the alpha value and see what happens?"
      ]
    },
    {
      "cell_type": "markdown",
      "metadata": {
        "id": "ryQn_Io72Inz",
        "colab_type": "text"
      },
      "source": [
        "### Saving plot\n",
        "\n",
        "You can use plt.savefig(\"figurename.png\") to save the figure. Try it!"
      ]
    },
    {
      "cell_type": "code",
      "metadata": {
        "id": "FC5L1n-62In0",
        "colab_type": "code",
        "colab": {}
      },
      "source": [
        "plt.savefig(\"jaipur_scatter_plot.png\")"
      ],
      "execution_count": null,
      "outputs": []
    },
    {
      "cell_type": "markdown",
      "metadata": {
        "id": "YkKvp6Eu2In3",
        "colab_type": "text"
      },
      "source": [
        "## Line Plots"
      ]
    },
    {
      "cell_type": "markdown",
      "metadata": {
        "id": "3RW0WdVl2In4",
        "colab_type": "text"
      },
      "source": [
        "Besides showing relationship using scatter plot, time data as above can also be represented with a line plot. Let's see how this is done!"
      ]
    },
    {
      "cell_type": "code",
      "metadata": {
        "scrolled": true,
        "id": "Cxk1TKgd2In4",
        "colab_type": "code",
        "colab": {}
      },
      "source": [
        "y = dataframe.mean_temperature\n",
        "\n",
        "plt.plot(y)\n",
        "plt.ylabel(\"Mean Temperature\")\n",
        "plt.xlabel(\"Time\")\n",
        "\n",
        "Y_tick = ['May16','Jul16','Sept16','Nov16','Jan17','Mar17','May17','Jul17','Sept17','Nov17','Jan18','Mar18' ]\n",
        "\n",
        "plt.xticks(np.arange(0, 731, 60), Y_tick , rotation=30)\n",
        "plt.xticks()\n",
        "\n",
        "plt.show()"
      ],
      "execution_count": null,
      "outputs": []
    },
    {
      "cell_type": "markdown",
      "metadata": {
        "id": "P5d9gopa2In8",
        "colab_type": "text"
      },
      "source": [
        "### Task 15: Change the labels and add title so that it is clearer and easier for you to show this graph to others"
      ]
    },
    {
      "cell_type": "markdown",
      "metadata": {
        "id": "8mgKQSPc2In8",
        "colab_type": "text"
      },
      "source": [
        "### Drawing multiple lines in a plot"
      ]
    },
    {
      "cell_type": "code",
      "metadata": {
        "id": "6Id60is12In9",
        "colab_type": "code",
        "colab": {}
      },
      "source": [
        "x = dataframe.date\n",
        "y_1 = dataframe.max_temperature\n",
        "y_2 = dataframe.min_temperature\n",
        "\n",
        "plt.plot(x,y_1, label = \"Max temp\") \n",
        "plt.plot(x,y_2, label = \"Min temp\") \n",
        "\n",
        "plt.xticks(np.arange(0, 731, 60))\n",
        "plt.xticks (rotation=30)\n",
        "\n",
        "plt.legend()\n",
        "plt.show()"
      ],
      "execution_count": null,
      "outputs": []
    },
    {
      "cell_type": "markdown",
      "metadata": {
        "id": "QNZ1WD9r2IoD",
        "colab_type": "text"
      },
      "source": [
        "### Task 16: Draw at least 3 line graphs in one plot!"
      ]
    },
    {
      "cell_type": "code",
      "metadata": {
        "id": "GwflMPiQ2IoD",
        "colab_type": "code",
        "colab": {}
      },
      "source": [
        "#yourcodehere"
      ],
      "execution_count": null,
      "outputs": []
    },
    {
      "cell_type": "markdown",
      "metadata": {
        "id": "W94b2QmM2IoI",
        "colab_type": "text"
      },
      "source": [
        "## Histograms"
      ]
    },
    {
      "cell_type": "markdown",
      "metadata": {
        "id": "BfpNj3fD2IoI",
        "colab_type": "text"
      },
      "source": [
        "The histogram is useful to look at desity of values. For example, you might want to know how many days are hotter than 35C so that you can see what types of plants would survive better in your climate zone. The histogram allows us to see the probability distribution of our variables\n",
        "\n",
        "Let's look at how histograms are plotted."
      ]
    },
    {
      "cell_type": "code",
      "metadata": {
        "scrolled": true,
        "id": "8Mojnao22IoJ",
        "colab_type": "code",
        "colab": {}
      },
      "source": [
        "y = dataframe.mean_temperature\n",
        "\n",
        "plt.hist(y,bins=10)\n",
        "\n",
        "plt.show()"
      ],
      "execution_count": null,
      "outputs": []
    },
    {
      "cell_type": "markdown",
      "metadata": {
        "id": "i8PFjUUv2IoP",
        "colab_type": "text"
      },
      "source": [
        "What does the above means?\n",
        "\n",
        "Let's label the graph clearly as follows:\n",
        "\n",
        "- Title: Probability distribution of temperature over 2 years (2016 - 2018) in Jaipur\n",
        "- Y-axis: No.of days\n",
        "- X-axis: Temperature"
      ]
    },
    {
      "cell_type": "code",
      "metadata": {
        "id": "LTxp4S6w2IoP",
        "colab_type": "code",
        "colab": {}
      },
      "source": [
        "y = dataframe.mean_temperature\n",
        "\n",
        "plt.hist(y,bins=10)\n",
        "\n",
        "plt.ylabel(\"No.of days\")\n",
        "plt.xlabel(\"Temperature\")\n",
        "plt.title('Probability distribution of temperature over 2 years (2016 - 2018) in Jaipur')\n",
        "\n",
        "plt.show()"
      ],
      "execution_count": null,
      "outputs": []
    },
    {
      "cell_type": "markdown",
      "metadata": {
        "id": "Ys1tteot2IoT",
        "colab_type": "text"
      },
      "source": [
        "What is the mode of this dataset? what temperature range is represented the most/ the least?"
      ]
    },
    {
      "cell_type": "markdown",
      "metadata": {
        "id": "98mRmC6w2IoU",
        "colab_type": "text"
      },
      "source": [
        "### Task 17: What do you think are bins? Try changing the number of bins to 20. What do you notice?"
      ]
    },
    {
      "cell_type": "code",
      "metadata": {
        "id": "D0wpqWrq2IoV",
        "colab_type": "code",
        "colab": {}
      },
      "source": [
        "#yourcodehere"
      ],
      "execution_count": null,
      "outputs": []
    },
    {
      "cell_type": "markdown",
      "metadata": {
        "id": "NPd2RcrW2IoZ",
        "colab_type": "text"
      },
      "source": [
        "What does the histogram tell you about the temperature in Jaipur over the last two years?"
      ]
    },
    {
      "cell_type": "markdown",
      "metadata": {
        "id": "ncvS4f9G2Ioa",
        "colab_type": "text"
      },
      "source": [
        "## Bar Charts"
      ]
    },
    {
      "cell_type": "markdown",
      "metadata": {
        "id": "ilXd7ESK2Ioa",
        "colab_type": "text"
      },
      "source": [
        "Bar chart looks like histogram, but they are not the same! See the difference between bar charts and histogram [here](https://www.edrawsoft.com/histogram-vs-bar-chart.php)\n",
        "\n",
        "Now, head over to the matplotlib library and look at the example for bar charts. Here's the [link](https://pythonspot.com/matplotlib-bar-chart/)! "
      ]
    },
    {
      "cell_type": "code",
      "metadata": {
        "scrolled": true,
        "id": "d2gAPja32Ioa",
        "colab_type": "code",
        "colab": {}
      },
      "source": [
        "import matplotlib.pyplot as plt\n",
        "import numpy as np\n",
        " \n",
        "objects = ('Python', 'C++', 'Java', 'Perl', 'Scala', 'Lisp')\n",
        "y_pos = np.arange(len(objects))\n",
        "usage = [10,8,6,4,2,1]\n",
        " \n",
        "plt.bar(y_pos, usage, align='center')\n",
        "plt.xticks(y_pos, objects) # name the xticks\n",
        " \n",
        "plt.show()"
      ],
      "execution_count": null,
      "outputs": []
    },
    {
      "cell_type": "markdown",
      "metadata": {
        "id": "9bHv49JV2Ioh",
        "colab_type": "text"
      },
      "source": [
        "Because we are not dealing with categories with Jaipur weather data, we will not use it to make a barchart. However, do remember how to create your bar chart!"
      ]
    },
    {
      "cell_type": "markdown",
      "metadata": {
        "id": "pPmMBvAx2Ioi",
        "colab_type": "text"
      },
      "source": [
        "## Boxplots"
      ]
    },
    {
      "cell_type": "markdown",
      "metadata": {
        "id": "Tqr9Bvce2Ioi",
        "colab_type": "text"
      },
      "source": [
        "Boxplots is used to determine the distribution of our dataset. \n",
        "\n",
        "We will explore boxplot using a sample tutorial obtained from matplotlib [website](https://matplotlib.org/gallery/pyplots/boxplot_demo_pyplot.html#sphx-glr-gallery-pyplots-boxplot-demo-pyplot-py)\n",
        "\n",
        "### First, we will create random data for our example"
      ]
    },
    {
      "cell_type": "code",
      "metadata": {
        "id": "60dZDnIc2Ioi",
        "colab_type": "code",
        "colab": {}
      },
      "source": [
        "np.random.seed(10)\n",
        "data = np.random.normal(100, 10, 200)"
      ],
      "execution_count": null,
      "outputs": []
    },
    {
      "cell_type": "markdown",
      "metadata": {
        "id": "8b9Ji8AK2Ior",
        "colab_type": "text"
      },
      "source": [
        "### Next, we will draw our boxplot"
      ]
    },
    {
      "cell_type": "code",
      "metadata": {
        "id": "Vw1oIFYY2Iot",
        "colab_type": "code",
        "colab": {}
      },
      "source": [
        "fig1, ax1 = plt.subplots()\n",
        "ax1.set_title('Basic Plot')\n",
        "ax1.boxplot(data)\n",
        "plt.show()"
      ],
      "execution_count": null,
      "outputs": []
    },
    {
      "cell_type": "markdown",
      "metadata": {
        "id": "a7ZJKUhV2Ioy",
        "colab_type": "text"
      },
      "source": [
        "Great! you now have your boxplot. Do you remember how to read it? See [here](http://www.physics.csbsju.edu/stats/box2.html)\n",
        "\n",
        "From the reading, can you notice what are the values of the following:\n",
        "- Outlier\n",
        "- Median\n",
        "- First quartile\n",
        "- Third quartile"
      ]
    },
    {
      "cell_type": "markdown",
      "metadata": {
        "id": "dwM5S5qH2Ioz",
        "colab_type": "text"
      },
      "source": [
        "Now that you've understand how boxplot is plotted, apply boxplot to the data on temperature of Jaipur."
      ]
    },
    {
      "cell_type": "code",
      "metadata": {
        "id": "b20E9-8B2Io1",
        "colab_type": "code",
        "colab": {}
      },
      "source": [
        "y=dataframe.mean_temperature\n",
        "\n",
        "plt.boxplot(y)\n",
        "plt.show()"
      ],
      "execution_count": null,
      "outputs": []
    },
    {
      "cell_type": "markdown",
      "metadata": {
        "id": "4lwp0-b-2Io7",
        "colab_type": "text"
      },
      "source": [
        "What does the boxplot tell you about the temperature of Jaipur over the past two years?"
      ]
    },
    {
      "cell_type": "markdown",
      "metadata": {
        "id": "gVdit-o42IpC",
        "colab_type": "text"
      },
      "source": [
        "## Subplots\n",
        "\n",
        "Many times, you want to plot more than one graphs side by side. You can use subplots to do that!\n",
        "\n",
        "Here's how you can make them!"
      ]
    },
    {
      "cell_type": "code",
      "metadata": {
        "id": "cbAQZqvd2IpD",
        "colab_type": "code",
        "colab": {}
      },
      "source": [
        "x = dataframe.date\n",
        "y = dataframe.mean_temperature\n",
        "\n",
        "fig, (ax1, ax2) = plt.subplots(1, 2, sharey=True) #create 2 subplots with shared y axis\n",
        "fig.suptitle('Sharing Y axis')\n",
        "ax1.plot(x, y)\n",
        "ax2.scatter(x, y)\n",
        "plt.show()"
      ],
      "execution_count": null,
      "outputs": []
    },
    {
      "cell_type": "markdown",
      "metadata": {
        "id": "_AqHj5up2IpO",
        "colab_type": "text"
      },
      "source": [
        "### Task 18: Create subplots with 3 plots where the y axis is shared!"
      ]
    },
    {
      "cell_type": "code",
      "metadata": {
        "id": "PUHXQYrU2IpQ",
        "colab_type": "code",
        "colab": {}
      },
      "source": [
        "#yourcodehere"
      ],
      "execution_count": null,
      "outputs": []
    },
    {
      "cell_type": "markdown",
      "metadata": {
        "id": "89cTYbi22IpV",
        "colab_type": "text"
      },
      "source": [
        "### Task 19: Create subplots where the x axis is shared!\n",
        "Check out this [link](https://matplotlib.org/gallery/subplots_axes_and_figures/subplots_demo.html) to see how this is done!"
      ]
    },
    {
      "cell_type": "code",
      "metadata": {
        "id": "ruERBBHa2IpW",
        "colab_type": "code",
        "colab": {}
      },
      "source": [
        "#yourcodehere"
      ],
      "execution_count": null,
      "outputs": []
    },
    {
      "cell_type": "markdown",
      "metadata": {
        "id": "m6p3P-fj2Ipe",
        "colab_type": "text"
      },
      "source": [
        "# Challenge Questions:"
      ]
    },
    {
      "cell_type": "markdown",
      "metadata": {
        "id": "OKgSSN3b2Ipn",
        "colab_type": "text"
      },
      "source": [
        "Load the nz_weather.csv dataset from your work folder. \n",
        "\n",
        "Source of data: https://raw.githubusercontent.com/plotly/datasets/master/nz_weather.csv."
      ]
    },
    {
      "cell_type": "markdown",
      "metadata": {
        "id": "kN5ct76X2Ipo",
        "colab_type": "text"
      },
      "source": [
        "## Load the data"
      ]
    },
    {
      "cell_type": "code",
      "metadata": {
        "id": "6K8I01co2Ipp",
        "colab_type": "code",
        "colab": {}
      },
      "source": [
        "#yourcodehere"
      ],
      "execution_count": null,
      "outputs": []
    },
    {
      "cell_type": "markdown",
      "metadata": {
        "id": "ccd_Arbk2Ipu",
        "colab_type": "text"
      },
      "source": [
        "## Print the top 5 entries"
      ]
    },
    {
      "cell_type": "code",
      "metadata": {
        "id": "0oClgJYw2Ipv",
        "colab_type": "code",
        "colab": {}
      },
      "source": [
        "#yourcodehere"
      ],
      "execution_count": null,
      "outputs": []
    },
    {
      "cell_type": "markdown",
      "metadata": {
        "id": "Ee8L88Gv2Ipz",
        "colab_type": "text"
      },
      "source": [
        "## Draw 2 line graph in one plot, showing Christchurch's and Hamilton's weather throughout the year"
      ]
    },
    {
      "cell_type": "code",
      "metadata": {
        "scrolled": true,
        "id": "KI9YwjTJ2Ip0",
        "colab_type": "code",
        "colab": {}
      },
      "source": [
        "#yourcodehere"
      ],
      "execution_count": null,
      "outputs": []
    },
    {
      "cell_type": "markdown",
      "metadata": {
        "id": "GCIbl_fR2Ip2",
        "colab_type": "text"
      },
      "source": [
        "From the plot, can you see which city has higher temperature? You can calculate the [mean value](https://www.geeksforgeeks.org/python-pandas-dataframe-mean/) to find out"
      ]
    },
    {
      "cell_type": "markdown",
      "metadata": {
        "id": "V1R4UQEM2Ip2",
        "colab_type": "text"
      },
      "source": [
        "## Create a histogram for Auckland weather"
      ]
    },
    {
      "cell_type": "code",
      "metadata": {
        "scrolled": false,
        "id": "6H3QUQp22Ip3",
        "colab_type": "code",
        "colab": {}
      },
      "source": [
        "#yourcodehere"
      ],
      "execution_count": null,
      "outputs": []
    },
    {
      "cell_type": "markdown",
      "metadata": {
        "id": "HCkDpU2C2Ip6",
        "colab_type": "text"
      },
      "source": [
        "See the graph? do you notice a data point that might be an outlier?"
      ]
    },
    {
      "cell_type": "markdown",
      "metadata": {
        "id": "SOrqsMSh2Ip6",
        "colab_type": "text"
      },
      "source": [
        "## Create a boxplot for Auckland weather"
      ]
    },
    {
      "cell_type": "code",
      "metadata": {
        "scrolled": true,
        "id": "qAd-IT8q2Ip6",
        "colab_type": "code",
        "colab": {}
      },
      "source": [
        "#yourcodehere"
      ],
      "execution_count": null,
      "outputs": []
    },
    {
      "cell_type": "markdown",
      "metadata": {
        "id": "DL9FO7ch2Ip-",
        "colab_type": "text"
      },
      "source": [
        "## Create a subplot showing all boxplots of the various areas"
      ]
    },
    {
      "cell_type": "code",
      "metadata": {
        "id": "yjfGUY0W2Ip-",
        "colab_type": "code",
        "colab": {}
      },
      "source": [
        "#yourcodehere"
      ],
      "execution_count": null,
      "outputs": []
    },
    {
      "cell_type": "markdown",
      "metadata": {
        "id": "xnPRkwHp2IqD",
        "colab_type": "text"
      },
      "source": [
        "Do you see the ourlier? What might we do with this outlier?"
      ]
    },
    {
      "cell_type": "markdown",
      "metadata": {
        "id": "uOoLFIrN2IqF",
        "colab_type": "text"
      },
      "source": [
        "### Great! You have now gained the ability to visualize data using matplotlib. You'll use this skill again throughout experience stage!"
      ]
    }
  ]
}